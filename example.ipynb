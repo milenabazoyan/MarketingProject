{
 "cells": [
  {
   "cell_type": "code",
   "execution_count": 1,
   "id": "initial_id",
   "metadata": {
    "collapsed": true,
    "ExecuteTime": {
     "end_time": "2024-05-11T20:30:45.411354Z",
     "start_time": "2024-05-11T20:30:43.498377Z"
    }
   },
   "outputs": [
    {
     "name": "stdout",
     "output_type": "stream",
     "text": [
      "Requirement already satisfied: FashionTrendForecasting==0.1.0 in /Users/sateantaranyan/.virtualenvs/MarketingProject-main/lib/python3.12/site-packages (0.1.0)\r\n",
      "Requirement already satisfied: annotated-types==0.6.0 in /Users/sateantaranyan/.virtualenvs/MarketingProject-main/lib/python3.12/site-packages (from FashionTrendForecasting==0.1.0) (0.6.0)\r\n",
      "Requirement already satisfied: anyio==4.3.0 in /Users/sateantaranyan/.virtualenvs/MarketingProject-main/lib/python3.12/site-packages (from FashionTrendForecasting==0.1.0) (4.3.0)\r\n",
      "Requirement already satisfied: appnope==0.1.4 in /Users/sateantaranyan/.virtualenvs/MarketingProject-main/lib/python3.12/site-packages (from FashionTrendForecasting==0.1.0) (0.1.4)\r\n",
      "Requirement already satisfied: argon2-cffi==23.1.0 in /Users/sateantaranyan/.virtualenvs/MarketingProject-main/lib/python3.12/site-packages (from FashionTrendForecasting==0.1.0) (23.1.0)\r\n",
      "Requirement already satisfied: argon2-cffi-bindings==21.2.0 in /Users/sateantaranyan/.virtualenvs/MarketingProject-main/lib/python3.12/site-packages (from FashionTrendForecasting==0.1.0) (21.2.0)\r\n",
      "Requirement already satisfied: arrow==1.3.0 in /Users/sateantaranyan/.virtualenvs/MarketingProject-main/lib/python3.12/site-packages (from FashionTrendForecasting==0.1.0) (1.3.0)\r\n",
      "Requirement already satisfied: asttokens==2.4.1 in /Users/sateantaranyan/.virtualenvs/MarketingProject-main/lib/python3.12/site-packages (from FashionTrendForecasting==0.1.0) (2.4.1)\r\n",
      "Requirement already satisfied: async-lru==2.0.4 in /Users/sateantaranyan/.virtualenvs/MarketingProject-main/lib/python3.12/site-packages (from FashionTrendForecasting==0.1.0) (2.0.4)\r\n",
      "Requirement already satisfied: attrs==23.2.0 in /Users/sateantaranyan/.virtualenvs/MarketingProject-main/lib/python3.12/site-packages (from FashionTrendForecasting==0.1.0) (23.2.0)\r\n",
      "Requirement already satisfied: Babel==2.15.0 in /Users/sateantaranyan/.virtualenvs/MarketingProject-main/lib/python3.12/site-packages (from FashionTrendForecasting==0.1.0) (2.15.0)\r\n",
      "Requirement already satisfied: beautifulsoup4==4.12.3 in /Users/sateantaranyan/.virtualenvs/MarketingProject-main/lib/python3.12/site-packages (from FashionTrendForecasting==0.1.0) (4.12.3)\r\n",
      "Requirement already satisfied: bleach==6.1.0 in /Users/sateantaranyan/.virtualenvs/MarketingProject-main/lib/python3.12/site-packages (from FashionTrendForecasting==0.1.0) (6.1.0)\r\n",
      "Requirement already satisfied: certifi==2024.2.2 in /Users/sateantaranyan/.virtualenvs/MarketingProject-main/lib/python3.12/site-packages (from FashionTrendForecasting==0.1.0) (2024.2.2)\r\n",
      "Requirement already satisfied: cffi==1.16.0 in /Users/sateantaranyan/.virtualenvs/MarketingProject-main/lib/python3.12/site-packages (from FashionTrendForecasting==0.1.0) (1.16.0)\r\n",
      "Requirement already satisfied: charset-normalizer==3.3.2 in /Users/sateantaranyan/.virtualenvs/MarketingProject-main/lib/python3.12/site-packages (from FashionTrendForecasting==0.1.0) (3.3.2)\r\n",
      "Requirement already satisfied: click==8.1.7 in /Users/sateantaranyan/.virtualenvs/MarketingProject-main/lib/python3.12/site-packages (from FashionTrendForecasting==0.1.0) (8.1.7)\r\n",
      "Requirement already satisfied: comm==0.2.2 in /Users/sateantaranyan/.virtualenvs/MarketingProject-main/lib/python3.12/site-packages (from FashionTrendForecasting==0.1.0) (0.2.2)\r\n",
      "Requirement already satisfied: contourpy==1.2.1 in /Users/sateantaranyan/.virtualenvs/MarketingProject-main/lib/python3.12/site-packages (from FashionTrendForecasting==0.1.0) (1.2.1)\r\n",
      "Requirement already satisfied: cycler==0.12.1 in /Users/sateantaranyan/.virtualenvs/MarketingProject-main/lib/python3.12/site-packages (from FashionTrendForecasting==0.1.0) (0.12.1)\r\n",
      "Requirement already satisfied: debugpy==1.8.1 in /Users/sateantaranyan/.virtualenvs/MarketingProject-main/lib/python3.12/site-packages (from FashionTrendForecasting==0.1.0) (1.8.1)\r\n",
      "Requirement already satisfied: decorator==5.1.1 in /Users/sateantaranyan/.virtualenvs/MarketingProject-main/lib/python3.12/site-packages (from FashionTrendForecasting==0.1.0) (5.1.1)\r\n",
      "Requirement already satisfied: defusedxml==0.7.1 in /Users/sateantaranyan/.virtualenvs/MarketingProject-main/lib/python3.12/site-packages (from FashionTrendForecasting==0.1.0) (0.7.1)\r\n",
      "Requirement already satisfied: executing==2.0.1 in /Users/sateantaranyan/.virtualenvs/MarketingProject-main/lib/python3.12/site-packages (from FashionTrendForecasting==0.1.0) (2.0.1)\r\n",
      "Requirement already satisfied: Faker==24.14.0 in /Users/sateantaranyan/.virtualenvs/MarketingProject-main/lib/python3.12/site-packages (from FashionTrendForecasting==0.1.0) (24.14.0)\r\n",
      "Requirement already satisfied: fastapi==0.110.0 in /Users/sateantaranyan/.virtualenvs/MarketingProject-main/lib/python3.12/site-packages (from FashionTrendForecasting==0.1.0) (0.110.0)\r\n",
      "Requirement already satisfied: fastjsonschema==2.19.1 in /Users/sateantaranyan/.virtualenvs/MarketingProject-main/lib/python3.12/site-packages (from FashionTrendForecasting==0.1.0) (2.19.1)\r\n",
      "Requirement already satisfied: fonttools==4.51.0 in /Users/sateantaranyan/.virtualenvs/MarketingProject-main/lib/python3.12/site-packages (from FashionTrendForecasting==0.1.0) (4.51.0)\r\n",
      "Requirement already satisfied: fqdn==1.5.1 in /Users/sateantaranyan/.virtualenvs/MarketingProject-main/lib/python3.12/site-packages (from FashionTrendForecasting==0.1.0) (1.5.1)\r\n",
      "Requirement already satisfied: h11==0.14.0 in /Users/sateantaranyan/.virtualenvs/MarketingProject-main/lib/python3.12/site-packages (from FashionTrendForecasting==0.1.0) (0.14.0)\r\n",
      "Requirement already satisfied: httpcore==1.0.5 in /Users/sateantaranyan/.virtualenvs/MarketingProject-main/lib/python3.12/site-packages (from FashionTrendForecasting==0.1.0) (1.0.5)\r\n",
      "Requirement already satisfied: httptools==0.6.1 in /Users/sateantaranyan/.virtualenvs/MarketingProject-main/lib/python3.12/site-packages (from FashionTrendForecasting==0.1.0) (0.6.1)\r\n",
      "Requirement already satisfied: httpx==0.27.0 in /Users/sateantaranyan/.virtualenvs/MarketingProject-main/lib/python3.12/site-packages (from FashionTrendForecasting==0.1.0) (0.27.0)\r\n",
      "Requirement already satisfied: idna==3.6 in /Users/sateantaranyan/.virtualenvs/MarketingProject-main/lib/python3.12/site-packages (from FashionTrendForecasting==0.1.0) (3.6)\r\n",
      "Requirement already satisfied: ipykernel==6.29.4 in /Users/sateantaranyan/.virtualenvs/MarketingProject-main/lib/python3.12/site-packages (from FashionTrendForecasting==0.1.0) (6.29.4)\r\n",
      "Requirement already satisfied: ipython==8.24.0 in /Users/sateantaranyan/.virtualenvs/MarketingProject-main/lib/python3.12/site-packages (from FashionTrendForecasting==0.1.0) (8.24.0)\r\n",
      "Requirement already satisfied: ipywidgets==8.1.2 in /Users/sateantaranyan/.virtualenvs/MarketingProject-main/lib/python3.12/site-packages (from FashionTrendForecasting==0.1.0) (8.1.2)\r\n",
      "Requirement already satisfied: isoduration==20.11.0 in /Users/sateantaranyan/.virtualenvs/MarketingProject-main/lib/python3.12/site-packages (from FashionTrendForecasting==0.1.0) (20.11.0)\r\n",
      "Requirement already satisfied: jedi==0.19.1 in /Users/sateantaranyan/.virtualenvs/MarketingProject-main/lib/python3.12/site-packages (from FashionTrendForecasting==0.1.0) (0.19.1)\r\n",
      "Requirement already satisfied: Jinja2==3.1.4 in /Users/sateantaranyan/.virtualenvs/MarketingProject-main/lib/python3.12/site-packages (from FashionTrendForecasting==0.1.0) (3.1.4)\r\n",
      "Requirement already satisfied: joblib==1.4.0 in /Users/sateantaranyan/.virtualenvs/MarketingProject-main/lib/python3.12/site-packages (from FashionTrendForecasting==0.1.0) (1.4.0)\r\n",
      "Requirement already satisfied: json5==0.9.25 in /Users/sateantaranyan/.virtualenvs/MarketingProject-main/lib/python3.12/site-packages (from FashionTrendForecasting==0.1.0) (0.9.25)\r\n",
      "Requirement already satisfied: jsonpointer==2.4 in /Users/sateantaranyan/.virtualenvs/MarketingProject-main/lib/python3.12/site-packages (from FashionTrendForecasting==0.1.0) (2.4)\r\n",
      "Requirement already satisfied: jsonschema==4.22.0 in /Users/sateantaranyan/.virtualenvs/MarketingProject-main/lib/python3.12/site-packages (from FashionTrendForecasting==0.1.0) (4.22.0)\r\n",
      "Requirement already satisfied: jsonschema-specifications==2023.12.1 in /Users/sateantaranyan/.virtualenvs/MarketingProject-main/lib/python3.12/site-packages (from FashionTrendForecasting==0.1.0) (2023.12.1)\r\n",
      "Requirement already satisfied: jupyter==1.0.0 in /Users/sateantaranyan/.virtualenvs/MarketingProject-main/lib/python3.12/site-packages (from FashionTrendForecasting==0.1.0) (1.0.0)\r\n",
      "Requirement already satisfied: jupyter-console==6.6.3 in /Users/sateantaranyan/.virtualenvs/MarketingProject-main/lib/python3.12/site-packages (from FashionTrendForecasting==0.1.0) (6.6.3)\r\n",
      "Requirement already satisfied: jupyter-events==0.10.0 in /Users/sateantaranyan/.virtualenvs/MarketingProject-main/lib/python3.12/site-packages (from FashionTrendForecasting==0.1.0) (0.10.0)\r\n",
      "Requirement already satisfied: jupyter-lsp==2.2.5 in /Users/sateantaranyan/.virtualenvs/MarketingProject-main/lib/python3.12/site-packages (from FashionTrendForecasting==0.1.0) (2.2.5)\r\n",
      "Requirement already satisfied: jupyter-client==8.6.1 in /Users/sateantaranyan/.virtualenvs/MarketingProject-main/lib/python3.12/site-packages (from FashionTrendForecasting==0.1.0) (8.6.1)\r\n",
      "Requirement already satisfied: jupyter-core==5.7.2 in /Users/sateantaranyan/.virtualenvs/MarketingProject-main/lib/python3.12/site-packages (from FashionTrendForecasting==0.1.0) (5.7.2)\r\n",
      "Requirement already satisfied: jupyter-server==2.14.0 in /Users/sateantaranyan/.virtualenvs/MarketingProject-main/lib/python3.12/site-packages (from FashionTrendForecasting==0.1.0) (2.14.0)\r\n",
      "Requirement already satisfied: jupyter-server-terminals==0.5.3 in /Users/sateantaranyan/.virtualenvs/MarketingProject-main/lib/python3.12/site-packages (from FashionTrendForecasting==0.1.0) (0.5.3)\r\n",
      "Requirement already satisfied: jupyterlab==4.1.8 in /Users/sateantaranyan/.virtualenvs/MarketingProject-main/lib/python3.12/site-packages (from FashionTrendForecasting==0.1.0) (4.1.8)\r\n",
      "Requirement already satisfied: jupyterlab-pygments==0.3.0 in /Users/sateantaranyan/.virtualenvs/MarketingProject-main/lib/python3.12/site-packages (from FashionTrendForecasting==0.1.0) (0.3.0)\r\n",
      "Requirement already satisfied: jupyterlab-server==2.27.1 in /Users/sateantaranyan/.virtualenvs/MarketingProject-main/lib/python3.12/site-packages (from FashionTrendForecasting==0.1.0) (2.27.1)\r\n",
      "Requirement already satisfied: jupyterlab-widgets==3.0.10 in /Users/sateantaranyan/.virtualenvs/MarketingProject-main/lib/python3.12/site-packages (from FashionTrendForecasting==0.1.0) (3.0.10)\r\n",
      "Requirement already satisfied: kiwisolver==1.4.5 in /Users/sateantaranyan/.virtualenvs/MarketingProject-main/lib/python3.12/site-packages (from FashionTrendForecasting==0.1.0) (1.4.5)\r\n",
      "Requirement already satisfied: MarkupSafe==2.1.5 in /Users/sateantaranyan/.virtualenvs/MarketingProject-main/lib/python3.12/site-packages (from FashionTrendForecasting==0.1.0) (2.1.5)\r\n",
      "Requirement already satisfied: matplotlib==3.9.0rc2 in /Users/sateantaranyan/.virtualenvs/MarketingProject-main/lib/python3.12/site-packages (from FashionTrendForecasting==0.1.0) (3.9.0rc2)\r\n",
      "Requirement already satisfied: matplotlib-inline>=0.1.7 in /Users/sateantaranyan/.virtualenvs/MarketingProject-main/lib/python3.12/site-packages (from FashionTrendForecasting==0.1.0) (0.1.7)\r\n",
      "Requirement already satisfied: mistune==3.0.2 in /Users/sateantaranyan/.virtualenvs/MarketingProject-main/lib/python3.12/site-packages (from FashionTrendForecasting==0.1.0) (3.0.2)\r\n",
      "Requirement already satisfied: nbclient==0.10.0 in /Users/sateantaranyan/.virtualenvs/MarketingProject-main/lib/python3.12/site-packages (from FashionTrendForecasting==0.1.0) (0.10.0)\r\n",
      "Requirement already satisfied: nbconvert==7.16.4 in /Users/sateantaranyan/.virtualenvs/MarketingProject-main/lib/python3.12/site-packages (from FashionTrendForecasting==0.1.0) (7.16.4)\r\n",
      "Requirement already satisfied: nbformat==5.10.4 in /Users/sateantaranyan/.virtualenvs/MarketingProject-main/lib/python3.12/site-packages (from FashionTrendForecasting==0.1.0) (5.10.4)\r\n",
      "Requirement already satisfied: nest-asyncio==1.6.0 in /Users/sateantaranyan/.virtualenvs/MarketingProject-main/lib/python3.12/site-packages (from FashionTrendForecasting==0.1.0) (1.6.0)\r\n",
      "Requirement already satisfied: notebook==7.1.3 in /Users/sateantaranyan/.virtualenvs/MarketingProject-main/lib/python3.12/site-packages (from FashionTrendForecasting==0.1.0) (7.1.3)\r\n",
      "Requirement already satisfied: notebook-shim==0.2.4 in /Users/sateantaranyan/.virtualenvs/MarketingProject-main/lib/python3.12/site-packages (from FashionTrendForecasting==0.1.0) (0.2.4)\r\n",
      "Requirement already satisfied: numpy>=1.26.4 in /Users/sateantaranyan/.virtualenvs/MarketingProject-main/lib/python3.12/site-packages (from FashionTrendForecasting==0.1.0) (1.26.4)\r\n",
      "Requirement already satisfied: overrides==7.7.0 in /Users/sateantaranyan/.virtualenvs/MarketingProject-main/lib/python3.12/site-packages (from FashionTrendForecasting==0.1.0) (7.7.0)\r\n",
      "Requirement already satisfied: packaging==24.0 in /Users/sateantaranyan/.virtualenvs/MarketingProject-main/lib/python3.12/site-packages (from FashionTrendForecasting==0.1.0) (24.0)\r\n",
      "Requirement already satisfied: pandas>=2.2.1 in /Users/sateantaranyan/.virtualenvs/MarketingProject-main/lib/python3.12/site-packages (from FashionTrendForecasting==0.1.0) (2.2.1)\r\n",
      "Requirement already satisfied: pandocfilters==1.5.1 in /Users/sateantaranyan/.virtualenvs/MarketingProject-main/lib/python3.12/site-packages (from FashionTrendForecasting==0.1.0) (1.5.1)\r\n",
      "Requirement already satisfied: parso==0.8.4 in /Users/sateantaranyan/.virtualenvs/MarketingProject-main/lib/python3.12/site-packages (from FashionTrendForecasting==0.1.0) (0.8.4)\r\n",
      "Requirement already satisfied: pexpect==4.9.0 in /Users/sateantaranyan/.virtualenvs/MarketingProject-main/lib/python3.12/site-packages (from FashionTrendForecasting==0.1.0) (4.9.0)\r\n",
      "Requirement already satisfied: pillow==10.3.0 in /Users/sateantaranyan/.virtualenvs/MarketingProject-main/lib/python3.12/site-packages (from FashionTrendForecasting==0.1.0) (10.3.0)\r\n",
      "Requirement already satisfied: platformdirs==4.2.1 in /Users/sateantaranyan/.virtualenvs/MarketingProject-main/lib/python3.12/site-packages (from FashionTrendForecasting==0.1.0) (4.2.1)\r\n",
      "Requirement already satisfied: prometheus-client==0.20.0 in /Users/sateantaranyan/.virtualenvs/MarketingProject-main/lib/python3.12/site-packages (from FashionTrendForecasting==0.1.0) (0.20.0)\r\n",
      "Requirement already satisfied: prompt-toolkit==3.0.43 in /Users/sateantaranyan/.virtualenvs/MarketingProject-main/lib/python3.12/site-packages (from FashionTrendForecasting==0.1.0) (3.0.43)\r\n",
      "Requirement already satisfied: psutil==5.9.8 in /Users/sateantaranyan/.virtualenvs/MarketingProject-main/lib/python3.12/site-packages (from FashionTrendForecasting==0.1.0) (5.9.8)\r\n",
      "Requirement already satisfied: ptyprocess==0.7.0 in /Users/sateantaranyan/.virtualenvs/MarketingProject-main/lib/python3.12/site-packages (from FashionTrendForecasting==0.1.0) (0.7.0)\r\n",
      "Requirement already satisfied: pure-eval==0.2.2 in /Users/sateantaranyan/.virtualenvs/MarketingProject-main/lib/python3.12/site-packages (from FashionTrendForecasting==0.1.0) (0.2.2)\r\n",
      "Requirement already satisfied: pycparser==2.22 in /Users/sateantaranyan/.virtualenvs/MarketingProject-main/lib/python3.12/site-packages (from FashionTrendForecasting==0.1.0) (2.22)\r\n",
      "Requirement already satisfied: pydantic==2.6.4 in /Users/sateantaranyan/.virtualenvs/MarketingProject-main/lib/python3.12/site-packages (from FashionTrendForecasting==0.1.0) (2.6.4)\r\n",
      "Requirement already satisfied: pydantic-core==2.16.3 in /Users/sateantaranyan/.virtualenvs/MarketingProject-main/lib/python3.12/site-packages (from FashionTrendForecasting==0.1.0) (2.16.3)\r\n",
      "Requirement already satisfied: Pygments==2.18.0 in /Users/sateantaranyan/.virtualenvs/MarketingProject-main/lib/python3.12/site-packages (from FashionTrendForecasting==0.1.0) (2.18.0)\r\n",
      "Requirement already satisfied: pyparsing==3.1.2 in /Users/sateantaranyan/.virtualenvs/MarketingProject-main/lib/python3.12/site-packages (from FashionTrendForecasting==0.1.0) (3.1.2)\r\n",
      "Requirement already satisfied: python-dateutil==2.9.0.post0 in /Users/sateantaranyan/.virtualenvs/MarketingProject-main/lib/python3.12/site-packages (from FashionTrendForecasting==0.1.0) (2.9.0.post0)\r\n",
      "Requirement already satisfied: python-dotenv==1.0.1 in /Users/sateantaranyan/.virtualenvs/MarketingProject-main/lib/python3.12/site-packages (from FashionTrendForecasting==0.1.0) (1.0.1)\r\n",
      "Requirement already satisfied: python-json-logger==2.0.7 in /Users/sateantaranyan/.virtualenvs/MarketingProject-main/lib/python3.12/site-packages (from FashionTrendForecasting==0.1.0) (2.0.7)\r\n",
      "Requirement already satisfied: pytz==2024.1 in /Users/sateantaranyan/.virtualenvs/MarketingProject-main/lib/python3.12/site-packages (from FashionTrendForecasting==0.1.0) (2024.1)\r\n",
      "Requirement already satisfied: PyYAML==6.0.1 in /Users/sateantaranyan/.virtualenvs/MarketingProject-main/lib/python3.12/site-packages (from FashionTrendForecasting==0.1.0) (6.0.1)\r\n",
      "Requirement already satisfied: pyzmq==26.0.3 in /Users/sateantaranyan/.virtualenvs/MarketingProject-main/lib/python3.12/site-packages (from FashionTrendForecasting==0.1.0) (26.0.3)\r\n",
      "Requirement already satisfied: qtconsole==5.5.2 in /Users/sateantaranyan/.virtualenvs/MarketingProject-main/lib/python3.12/site-packages (from FashionTrendForecasting==0.1.0) (5.5.2)\r\n",
      "Requirement already satisfied: QtPy==2.4.1 in /Users/sateantaranyan/.virtualenvs/MarketingProject-main/lib/python3.12/site-packages (from FashionTrendForecasting==0.1.0) (2.4.1)\r\n",
      "Requirement already satisfied: referencing==0.35.1 in /Users/sateantaranyan/.virtualenvs/MarketingProject-main/lib/python3.12/site-packages (from FashionTrendForecasting==0.1.0) (0.35.1)\r\n",
      "Requirement already satisfied: requests==2.31.0 in /Users/sateantaranyan/.virtualenvs/MarketingProject-main/lib/python3.12/site-packages (from FashionTrendForecasting==0.1.0) (2.31.0)\r\n",
      "Requirement already satisfied: rfc3339-validator==0.1.4 in /Users/sateantaranyan/.virtualenvs/MarketingProject-main/lib/python3.12/site-packages (from FashionTrendForecasting==0.1.0) (0.1.4)\r\n",
      "Requirement already satisfied: rfc3986-validator==0.1.1 in /Users/sateantaranyan/.virtualenvs/MarketingProject-main/lib/python3.12/site-packages (from FashionTrendForecasting==0.1.0) (0.1.1)\r\n",
      "Requirement already satisfied: rpds-py==0.18.1 in /Users/sateantaranyan/.virtualenvs/MarketingProject-main/lib/python3.12/site-packages (from FashionTrendForecasting==0.1.0) (0.18.1)\r\n",
      "Requirement already satisfied: scikit-learn==1.4.2 in /Users/sateantaranyan/.virtualenvs/MarketingProject-main/lib/python3.12/site-packages (from FashionTrendForecasting==0.1.0) (1.4.2)\r\n",
      "Requirement already satisfied: scipy==1.13.0 in /Users/sateantaranyan/.virtualenvs/MarketingProject-main/lib/python3.12/site-packages (from FashionTrendForecasting==0.1.0) (1.13.0)\r\n",
      "Requirement already satisfied: seaborn==0.13.2 in /Users/sateantaranyan/.virtualenvs/MarketingProject-main/lib/python3.12/site-packages (from FashionTrendForecasting==0.1.0) (0.13.2)\r\n",
      "Requirement already satisfied: Send2Trash==1.8.3 in /Users/sateantaranyan/.virtualenvs/MarketingProject-main/lib/python3.12/site-packages (from FashionTrendForecasting==0.1.0) (1.8.3)\r\n",
      "Requirement already satisfied: six==1.16.0 in /Users/sateantaranyan/.virtualenvs/MarketingProject-main/lib/python3.12/site-packages (from FashionTrendForecasting==0.1.0) (1.16.0)\r\n",
      "Requirement already satisfied: sniffio==1.3.1 in /Users/sateantaranyan/.virtualenvs/MarketingProject-main/lib/python3.12/site-packages (from FashionTrendForecasting==0.1.0) (1.3.1)\r\n",
      "Requirement already satisfied: soupsieve==2.5 in /Users/sateantaranyan/.virtualenvs/MarketingProject-main/lib/python3.12/site-packages (from FashionTrendForecasting==0.1.0) (2.5)\r\n",
      "Requirement already satisfied: SQLAlchemy==2.0.29 in /Users/sateantaranyan/.virtualenvs/MarketingProject-main/lib/python3.12/site-packages (from FashionTrendForecasting==0.1.0) (2.0.29)\r\n",
      "Requirement already satisfied: stack-data==0.6.3 in /Users/sateantaranyan/.virtualenvs/MarketingProject-main/lib/python3.12/site-packages (from FashionTrendForecasting==0.1.0) (0.6.3)\r\n",
      "Requirement already satisfied: starlette==0.36.3 in /Users/sateantaranyan/.virtualenvs/MarketingProject-main/lib/python3.12/site-packages (from FashionTrendForecasting==0.1.0) (0.36.3)\r\n",
      "Requirement already satisfied: terminado==0.18.1 in /Users/sateantaranyan/.virtualenvs/MarketingProject-main/lib/python3.12/site-packages (from FashionTrendForecasting==0.1.0) (0.18.1)\r\n",
      "Requirement already satisfied: threadpoolctl==3.4.0 in /Users/sateantaranyan/.virtualenvs/MarketingProject-main/lib/python3.12/site-packages (from FashionTrendForecasting==0.1.0) (3.4.0)\r\n",
      "Requirement already satisfied: tinycss2==1.3.0 in /Users/sateantaranyan/.virtualenvs/MarketingProject-main/lib/python3.12/site-packages (from FashionTrendForecasting==0.1.0) (1.3.0)\r\n",
      "Requirement already satisfied: tornado==6.4 in /Users/sateantaranyan/.virtualenvs/MarketingProject-main/lib/python3.12/site-packages (from FashionTrendForecasting==0.1.0) (6.4)\r\n",
      "Requirement already satisfied: traitlets==5.14.3 in /Users/sateantaranyan/.virtualenvs/MarketingProject-main/lib/python3.12/site-packages (from FashionTrendForecasting==0.1.0) (5.14.3)\r\n",
      "Requirement already satisfied: types-python-dateutil==2.9.0.20240316 in /Users/sateantaranyan/.virtualenvs/MarketingProject-main/lib/python3.12/site-packages (from FashionTrendForecasting==0.1.0) (2.9.0.20240316)\r\n",
      "Requirement already satisfied: typing-extensions==4.10.0 in /Users/sateantaranyan/.virtualenvs/MarketingProject-main/lib/python3.12/site-packages (from FashionTrendForecasting==0.1.0) (4.10.0)\r\n",
      "Requirement already satisfied: tzdata==2024.1 in /Users/sateantaranyan/.virtualenvs/MarketingProject-main/lib/python3.12/site-packages (from FashionTrendForecasting==0.1.0) (2024.1)\r\n",
      "Requirement already satisfied: uri-template==1.3.0 in /Users/sateantaranyan/.virtualenvs/MarketingProject-main/lib/python3.12/site-packages (from FashionTrendForecasting==0.1.0) (1.3.0)\r\n",
      "Requirement already satisfied: urllib3==2.2.1 in /Users/sateantaranyan/.virtualenvs/MarketingProject-main/lib/python3.12/site-packages (from FashionTrendForecasting==0.1.0) (2.2.1)\r\n",
      "Requirement already satisfied: uvicorn==0.29.0 in /Users/sateantaranyan/.virtualenvs/MarketingProject-main/lib/python3.12/site-packages (from FashionTrendForecasting==0.1.0) (0.29.0)\r\n",
      "Requirement already satisfied: uvloop==0.19.0 in /Users/sateantaranyan/.virtualenvs/MarketingProject-main/lib/python3.12/site-packages (from FashionTrendForecasting==0.1.0) (0.19.0)\r\n",
      "Requirement already satisfied: watchfiles==0.21.0 in /Users/sateantaranyan/.virtualenvs/MarketingProject-main/lib/python3.12/site-packages (from FashionTrendForecasting==0.1.0) (0.21.0)\r\n",
      "Requirement already satisfied: wcwidth==0.2.13 in /Users/sateantaranyan/.virtualenvs/MarketingProject-main/lib/python3.12/site-packages (from FashionTrendForecasting==0.1.0) (0.2.13)\r\n",
      "Requirement already satisfied: webcolors==1.13 in /Users/sateantaranyan/.virtualenvs/MarketingProject-main/lib/python3.12/site-packages (from FashionTrendForecasting==0.1.0) (1.13)\r\n",
      "Requirement already satisfied: webencodings==0.5.1 in /Users/sateantaranyan/.virtualenvs/MarketingProject-main/lib/python3.12/site-packages (from FashionTrendForecasting==0.1.0) (0.5.1)\r\n",
      "Requirement already satisfied: websocket-client==1.8.0 in /Users/sateantaranyan/.virtualenvs/MarketingProject-main/lib/python3.12/site-packages (from FashionTrendForecasting==0.1.0) (1.8.0)\r\n",
      "Requirement already satisfied: websockets==12.0 in /Users/sateantaranyan/.virtualenvs/MarketingProject-main/lib/python3.12/site-packages (from FashionTrendForecasting==0.1.0) (12.0)\r\n",
      "Requirement already satisfied: widgetsnbextension==4.0.10 in /Users/sateantaranyan/.virtualenvs/MarketingProject-main/lib/python3.12/site-packages (from FashionTrendForecasting==0.1.0) (4.0.10)\r\n"
     ]
    }
   ],
   "source": [
    "!pip install FashionTrendForecasting==0.1.0"
   ]
  },
  {
   "cell_type": "code",
   "outputs": [],
   "source": [
    "from FashionTrendForecasting.trend_analysis.Simple_Model import *"
   ],
   "metadata": {
    "collapsed": false,
    "ExecuteTime": {
     "end_time": "2024-05-11T20:31:34.782143Z",
     "start_time": "2024-05-11T20:31:32.613329Z"
    }
   },
   "id": "b2ffd62346c8ab02",
   "execution_count": 2
  },
  {
   "cell_type": "code",
   "outputs": [
    {
     "name": "stdout",
     "output_type": "stream",
     "text": [
      "1429.5961000000002\n"
     ]
    }
   ],
   "source": [
    "import pandas as pd\n",
    "new_data = pd.DataFrame({\n",
    "    'category': ['dresses', 'tops', 'pants'],\n",
    "    'material': ['cotton', 'polyester', 'wool'],\n",
    "    'style': ['casual', 'formal', 'sporty'],\n",
    "    'color': ['blue', 'black', 'red'],\n",
    "    'sales_volume': [200, 150, 100],\n",
    "    'max_search_count': [500, 450, 400],\n",
    "    'total_sales_volume': [1000, 800, 600],\n",
    "    'trend_score': [34,56,87]\n",
    "    \n",
    "})\n",
    "df = new_data\n",
    "rf_model, rf_mse = train_random_forest(df, 0.2, 42)\n",
    "print(rf_mse)\n"
   ],
   "metadata": {
    "collapsed": false,
    "ExecuteTime": {
     "end_time": "2024-05-11T20:45:51.490048Z",
     "start_time": "2024-05-11T20:45:51.454163Z"
    }
   },
   "id": "b5a9373186f6d055",
   "execution_count": 8
  },
  {
   "cell_type": "code",
   "outputs": [
    {
     "data": {
      "text/plain": "array([53.54, 55.17, 58.61])"
     },
     "execution_count": 11,
     "metadata": {},
     "output_type": "execute_result"
    }
   ],
   "source": [
    "from FashionTrendForecasting.trend_analysis.model import *\n",
    "new_data = pd.DataFrame({\n",
    "    'category': ['tops', 'tops', 'pants'],\n",
    "    'material': ['cotton', 'polyester', 'polyester'],\n",
    "    'style': ['sporty', 'casual', 'sporty'],\n",
    "    'color': ['pink', 'blue', 'black'],\n",
    "    'sales_volume': [23500, 123000, 1000],\n",
    "    'max_search_count': [550, 350, 621],\n",
    "    'total_sales_volume': [1200, 600, 900],\n",
    "    \n",
    "})\n",
    "X_train, y_train = split_data(df, 'trend_score')\n",
    "y_pred_rf = train_and_predict_rf(X_train, y_train, new_data, 100, 42)\n",
    "y_pred_rf"
   ],
   "metadata": {
    "collapsed": false,
    "ExecuteTime": {
     "end_time": "2024-05-11T20:46:16.630741Z",
     "start_time": "2024-05-11T20:46:16.571405Z"
    }
   },
   "id": "a36624c873204400",
   "execution_count": 11
  },
  {
   "cell_type": "code",
   "outputs": [],
   "source": [],
   "metadata": {
    "collapsed": false
   },
   "id": "b9c6a07a96cad42b"
  }
 ],
 "metadata": {
  "kernelspec": {
   "display_name": "Python 3",
   "language": "python",
   "name": "python3"
  },
  "language_info": {
   "codemirror_mode": {
    "name": "ipython",
    "version": 2
   },
   "file_extension": ".py",
   "mimetype": "text/x-python",
   "name": "python",
   "nbconvert_exporter": "python",
   "pygments_lexer": "ipython2",
   "version": "2.7.6"
  }
 },
 "nbformat": 4,
 "nbformat_minor": 5
}
