{
 "cells": [
  {
   "cell_type": "code",
   "execution_count": 1,
   "id": "initial_id",
   "metadata": {
    "ExecuteTime": {
     "end_time": "2024-05-11T21:27:34.081535Z",
     "start_time": "2024-05-11T21:27:32.178388Z"
    },
    "collapsed": true
   },
   "outputs": [
    {
     "name": "stdout",
     "output_type": "stream",
     "text": [
      "\u001b[31mERROR: Ignored the following versions that require a different python version: 0.1.0 Requires-Python >=3.12.0\u001b[0m\u001b[31m\n",
      "\u001b[0m\u001b[31mERROR: Could not find a version that satisfies the requirement FashionTrendForecasting (from versions: none)\u001b[0m\u001b[31m\n",
      "\u001b[0m\u001b[31mERROR: No matching distribution found for FashionTrendForecasting\u001b[0m\u001b[31m\n",
      "\u001b[0m"
     ]
    }
   ],
   "source": [
    "!pip install FashionTrendForecasting"
   ]
  },
  {
   "cell_type": "code",
   "execution_count": 2,
   "id": "f380b7f7e5983c9",
   "metadata": {
    "ExecuteTime": {
     "end_time": "2024-05-11T21:27:43.001380Z",
     "start_time": "2024-05-11T21:27:41.696815Z"
    },
    "collapsed": false
   },
   "outputs": [],
   "source": [
    "from FashionTrendForecasting.trend_analysis.Simple_Model import *"
   ]
  },
  {
   "cell_type": "code",
   "execution_count": 3,
   "id": "7dbd0ed25937661",
   "metadata": {
    "ExecuteTime": {
     "end_time": "2024-05-11T21:27:49.396952Z",
     "start_time": "2024-05-11T21:27:49.345656Z"
    },
    "collapsed": false
   },
   "outputs": [
    {
     "name": "stdout",
     "output_type": "stream",
     "text": [
      "1429.5961000000002\n"
     ]
    }
   ],
   "source": [
    "import pandas as pd\n",
    "new_data = pd.DataFrame({\n",
    "    'category': ['dresses', 'tops', 'pants'],\n",
    "    'material': ['cotton', 'polyester', 'wool'],\n",
    "    'style': ['casual', 'formal', 'sporty'],\n",
    "    'color': ['blue', 'black', 'red'],\n",
    "    'sales_volume': [200, 150, 100],\n",
    "    'max_search_count': [500, 450, 400],\n",
    "    'total_sales_volume': [1000, 800, 600],\n",
    "    'trend_score': [34,56,87]\n",
    "    \n",
    "})\n",
    "df = new_data\n",
    "rf_model, rf_mse = train_random_forest(df, 0.2, 42)\n",
    "print(rf_mse)\n"
   ]
  },
  {
   "cell_type": "code",
   "execution_count": 4,
   "id": "3375eb525a4e5a5d",
   "metadata": {
    "ExecuteTime": {
     "end_time": "2024-05-11T21:27:59.084760Z",
     "start_time": "2024-05-11T21:27:59.020253Z"
    },
    "collapsed": false
   },
   "outputs": [
    {
     "data": {
      "text/plain": [
       "array([53.54, 55.17, 58.61])"
      ]
     },
     "execution_count": 4,
     "metadata": {},
     "output_type": "execute_result"
    }
   ],
   "source": [
    "from FashionTrendForecasting.trend_analysis.model import *\n",
    "new_data = pd.DataFrame({\n",
    "    'category': ['tops', 'tops', 'pants'],\n",
    "    'material': ['cotton', 'polyester', 'polyester'],\n",
    "    'style': ['sporty', 'casual', 'sporty'],\n",
    "    'color': ['pink', 'blue', 'black'],\n",
    "    'sales_volume': [23500, 123000, 1000],\n",
    "    'max_search_count': [550, 350, 621],\n",
    "    'total_sales_volume': [1200, 600, 900],\n",
    "    \n",
    "})\n",
    "X_train, y_train = split_data(df, 'trend_score')\n",
    "y_pred_rf = train_and_predict_rf(X_train, y_train, new_data, 100, 42)\n",
    "y_pred_rf"
   ]
  },
  {
   "cell_type": "code",
   "execution_count": null,
   "id": "c28beaf855d10541",
   "metadata": {
    "collapsed": false
   },
   "outputs": [],
   "source": []
  }
 ],
 "metadata": {
  "kernelspec": {
   "display_name": "Python 3",
   "language": "python",
   "name": "python3"
  },
  "language_info": {
   "codemirror_mode": {
    "name": "ipython",
    "version": 3
   },
   "file_extension": ".py",
   "mimetype": "text/x-python",
   "name": "python",
   "nbconvert_exporter": "python",
   "pygments_lexer": "ipython3",
   "version": "3.11.4"
  }
 },
 "nbformat": 4,
 "nbformat_minor": 5
}
