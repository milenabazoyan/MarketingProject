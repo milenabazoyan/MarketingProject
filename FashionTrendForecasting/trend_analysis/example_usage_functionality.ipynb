{
 "cells": [
  {
   "cell_type": "code",
   "execution_count": 12,
   "metadata": {
    "collapsed": true,
    "ExecuteTime": {
     "start_time": "2024-05-09T18:16:00.086061Z",
     "end_time": "2024-05-09T18:16:00.091046Z"
    }
   },
   "outputs": [],
   "source": [
    "from FashionTrendForecasting.data_processing.sql_interactions import Interactions, CRUD"
   ]
  },
  {
   "cell_type": "code",
   "execution_count": 13,
   "outputs": [],
   "source": [
    "interaction = Interactions()"
   ],
   "metadata": {
    "collapsed": false,
    "ExecuteTime": {
     "start_time": "2024-05-09T18:16:00.631956Z",
     "end_time": "2024-05-09T18:16:00.648227Z"
    }
   }
  },
  {
   "cell_type": "code",
   "execution_count": 14,
   "outputs": [
    {
     "name": "stdout",
     "output_type": "stream",
     "text": [
      "2024-05-09 18:16:01,129 INFO sqlalchemy.engine.Engine BEGIN (implicit)\n",
      "2024-05-09 18:16:01,130 INFO sqlalchemy.engine.Engine PRAGMA main.table_info(\"\n",
      "        SELECT i.category, i.material, SUM(t.trend_score) as total_trend_score\n",
      "        FROM Trend t\n",
      "        JOIN Item i ON t.item_id = i.item_id\n",
      "        WHERE t.season = 'Spring'\n",
      "        GROUP BY t.item_id\n",
      "        ORDER BY total_trend_score DESC\n",
      "        LIMIT 5\n",
      "        \")\n",
      "2024-05-09 18:16:01,131 INFO sqlalchemy.engine.Engine [raw sql] ()\n",
      "2024-05-09 18:16:01,133 INFO sqlalchemy.engine.Engine PRAGMA temp.table_info(\"\n",
      "        SELECT i.category, i.material, SUM(t.trend_score) as total_trend_score\n",
      "        FROM Trend t\n",
      "        JOIN Item i ON t.item_id = i.item_id\n",
      "        WHERE t.season = 'Spring'\n",
      "        GROUP BY t.item_id\n",
      "        ORDER BY total_trend_score DESC\n",
      "        LIMIT 5\n",
      "        \")\n",
      "2024-05-09 18:16:01,134 INFO sqlalchemy.engine.Engine [raw sql] ()\n",
      "2024-05-09 18:16:01,134 INFO sqlalchemy.engine.Engine \n",
      "        SELECT i.category, i.material, SUM(t.trend_score) as total_trend_score\n",
      "        FROM Trend t\n",
      "        JOIN Item i ON t.item_id = i.item_id\n",
      "        WHERE t.season = 'Spring'\n",
      "        GROUP BY t.item_id\n",
      "        ORDER BY total_trend_score DESC\n",
      "        LIMIT 5\n",
      "        \n",
      "2024-05-09 18:16:01,135 INFO sqlalchemy.engine.Engine [raw sql] ()\n"
     ]
    },
    {
     "data": {
      "text/plain": "  category material  total_trend_score\n0     tops   cotton             166.72\n1  dresses     wool             139.44\n2  dresses    linen              94.19\n3    pants    linen              84.03\n4  dresses     wool              70.16",
      "text/html": "<div>\n<style scoped>\n    .dataframe tbody tr th:only-of-type {\n        vertical-align: middle;\n    }\n\n    .dataframe tbody tr th {\n        vertical-align: top;\n    }\n\n    .dataframe thead th {\n        text-align: right;\n    }\n</style>\n<table border=\"1\" class=\"dataframe\">\n  <thead>\n    <tr style=\"text-align: right;\">\n      <th></th>\n      <th>category</th>\n      <th>material</th>\n      <th>total_trend_score</th>\n    </tr>\n  </thead>\n  <tbody>\n    <tr>\n      <th>0</th>\n      <td>tops</td>\n      <td>cotton</td>\n      <td>166.72</td>\n    </tr>\n    <tr>\n      <th>1</th>\n      <td>dresses</td>\n      <td>wool</td>\n      <td>139.44</td>\n    </tr>\n    <tr>\n      <th>2</th>\n      <td>dresses</td>\n      <td>linen</td>\n      <td>94.19</td>\n    </tr>\n    <tr>\n      <th>3</th>\n      <td>pants</td>\n      <td>linen</td>\n      <td>84.03</td>\n    </tr>\n    <tr>\n      <th>4</th>\n      <td>dresses</td>\n      <td>wool</td>\n      <td>70.16</td>\n    </tr>\n  </tbody>\n</table>\n</div>"
     },
     "execution_count": 14,
     "metadata": {},
     "output_type": "execute_result"
    }
   ],
   "source": [
    "interaction.get_seasonal_trend_items_top_n('Spring', 5)"
   ],
   "metadata": {
    "collapsed": false,
    "ExecuteTime": {
     "start_time": "2024-05-09T18:16:01.132930Z",
     "end_time": "2024-05-09T18:16:01.147976Z"
    }
   }
  },
  {
   "cell_type": "code",
   "execution_count": 18,
   "outputs": [
    {
     "name": "stdout",
     "output_type": "stream",
     "text": [
      "2024-05-09 18:28:07,479 INFO sqlalchemy.engine.Engine PRAGMA main.table_info(\"SELECT * FROM Item\")\n",
      "2024-05-09 18:28:07,480 INFO sqlalchemy.engine.Engine [raw sql] ()\n",
      "2024-05-09 18:28:07,482 INFO sqlalchemy.engine.Engine PRAGMA temp.table_info(\"SELECT * FROM Item\")\n",
      "2024-05-09 18:28:07,484 INFO sqlalchemy.engine.Engine [raw sql] ()\n",
      "2024-05-09 18:28:07,485 INFO sqlalchemy.engine.Engine SELECT * FROM Item\n",
      "2024-05-09 18:28:07,486 INFO sqlalchemy.engine.Engine [raw sql] ()\n"
     ]
    },
    {
     "data": {
      "text/plain": "    item_id      name category   material   style         color  picture_id  \\\n0         1  Recently    pants  polyester  sporty       DimGray           1   \n1         2     These    pants      linen  formal  LemonChiffon           2   \n2         3      Drug    pants      linen  casual     RoyalBlue           3   \n3         4  Remember     tops  polyester  sporty     OliveDrab           4   \n4         5  Computer  dresses  polyester  casual    MediumBlue           5   \n..      ...       ...      ...        ...     ...           ...         ...   \n95       96  Southern     tops  polyester  casual        Orange          96   \n96       97       See  dresses  polyester  casual    PapayaWhip          97   \n97       98    Manage  dresses  polyester  formal          Lime          98   \n98       99    Toward     tops       wool  casual        Indigo          99   \n99      100      Land    pants     cotton  casual          Teal         100   \n\n    predicted_trend_score  \n0                     8.8  \n1                     0.0  \n2                     0.0  \n3                     0.0  \n4                     0.0  \n..                    ...  \n95                    0.0  \n96                    0.0  \n97                    0.0  \n98                    0.0  \n99                    0.0  \n\n[100 rows x 8 columns]",
      "text/html": "<div>\n<style scoped>\n    .dataframe tbody tr th:only-of-type {\n        vertical-align: middle;\n    }\n\n    .dataframe tbody tr th {\n        vertical-align: top;\n    }\n\n    .dataframe thead th {\n        text-align: right;\n    }\n</style>\n<table border=\"1\" class=\"dataframe\">\n  <thead>\n    <tr style=\"text-align: right;\">\n      <th></th>\n      <th>item_id</th>\n      <th>name</th>\n      <th>category</th>\n      <th>material</th>\n      <th>style</th>\n      <th>color</th>\n      <th>picture_id</th>\n      <th>predicted_trend_score</th>\n    </tr>\n  </thead>\n  <tbody>\n    <tr>\n      <th>0</th>\n      <td>1</td>\n      <td>Recently</td>\n      <td>pants</td>\n      <td>polyester</td>\n      <td>sporty</td>\n      <td>DimGray</td>\n      <td>1</td>\n      <td>8.8</td>\n    </tr>\n    <tr>\n      <th>1</th>\n      <td>2</td>\n      <td>These</td>\n      <td>pants</td>\n      <td>linen</td>\n      <td>formal</td>\n      <td>LemonChiffon</td>\n      <td>2</td>\n      <td>0.0</td>\n    </tr>\n    <tr>\n      <th>2</th>\n      <td>3</td>\n      <td>Drug</td>\n      <td>pants</td>\n      <td>linen</td>\n      <td>casual</td>\n      <td>RoyalBlue</td>\n      <td>3</td>\n      <td>0.0</td>\n    </tr>\n    <tr>\n      <th>3</th>\n      <td>4</td>\n      <td>Remember</td>\n      <td>tops</td>\n      <td>polyester</td>\n      <td>sporty</td>\n      <td>OliveDrab</td>\n      <td>4</td>\n      <td>0.0</td>\n    </tr>\n    <tr>\n      <th>4</th>\n      <td>5</td>\n      <td>Computer</td>\n      <td>dresses</td>\n      <td>polyester</td>\n      <td>casual</td>\n      <td>MediumBlue</td>\n      <td>5</td>\n      <td>0.0</td>\n    </tr>\n    <tr>\n      <th>...</th>\n      <td>...</td>\n      <td>...</td>\n      <td>...</td>\n      <td>...</td>\n      <td>...</td>\n      <td>...</td>\n      <td>...</td>\n      <td>...</td>\n    </tr>\n    <tr>\n      <th>95</th>\n      <td>96</td>\n      <td>Southern</td>\n      <td>tops</td>\n      <td>polyester</td>\n      <td>casual</td>\n      <td>Orange</td>\n      <td>96</td>\n      <td>0.0</td>\n    </tr>\n    <tr>\n      <th>96</th>\n      <td>97</td>\n      <td>See</td>\n      <td>dresses</td>\n      <td>polyester</td>\n      <td>casual</td>\n      <td>PapayaWhip</td>\n      <td>97</td>\n      <td>0.0</td>\n    </tr>\n    <tr>\n      <th>97</th>\n      <td>98</td>\n      <td>Manage</td>\n      <td>dresses</td>\n      <td>polyester</td>\n      <td>formal</td>\n      <td>Lime</td>\n      <td>98</td>\n      <td>0.0</td>\n    </tr>\n    <tr>\n      <th>98</th>\n      <td>99</td>\n      <td>Toward</td>\n      <td>tops</td>\n      <td>wool</td>\n      <td>casual</td>\n      <td>Indigo</td>\n      <td>99</td>\n      <td>0.0</td>\n    </tr>\n    <tr>\n      <th>99</th>\n      <td>100</td>\n      <td>Land</td>\n      <td>pants</td>\n      <td>cotton</td>\n      <td>casual</td>\n      <td>Teal</td>\n      <td>100</td>\n      <td>0.0</td>\n    </tr>\n  </tbody>\n</table>\n<p>100 rows × 8 columns</p>\n</div>"
     },
     "execution_count": 18,
     "metadata": {},
     "output_type": "execute_result"
    }
   ],
   "source": [
    "interaction.select_all_as_df('Item')"
   ],
   "metadata": {
    "collapsed": false,
    "ExecuteTime": {
     "start_time": "2024-05-09T18:28:07.481151Z",
     "end_time": "2024-05-09T18:28:07.506859Z"
    }
   }
  },
  {
   "cell_type": "code",
   "execution_count": 16,
   "outputs": [
    {
     "name": "stdout",
     "output_type": "stream",
     "text": [
      "2024-05-09 18:16:14,596 INFO sqlalchemy.engine.Engine PRAGMA main.table_info(\"\n",
      "        SELECT i.category, i.material, MAX(sf.search_count) as max_search_count\n",
      "        FROM Search_Frequency sf\n",
      "        JOIN Item i ON sf.item_id = i.item_id\n",
      "        GROUP BY sf.item_id\n",
      "        ORDER BY max_search_count DESC\n",
      "        \")\n",
      "2024-05-09 18:16:14,597 INFO sqlalchemy.engine.Engine [raw sql] ()\n",
      "2024-05-09 18:16:14,598 INFO sqlalchemy.engine.Engine PRAGMA temp.table_info(\"\n",
      "        SELECT i.category, i.material, MAX(sf.search_count) as max_search_count\n",
      "        FROM Search_Frequency sf\n",
      "        JOIN Item i ON sf.item_id = i.item_id\n",
      "        GROUP BY sf.item_id\n",
      "        ORDER BY max_search_count DESC\n",
      "        \")\n",
      "2024-05-09 18:16:14,599 INFO sqlalchemy.engine.Engine [raw sql] ()\n",
      "2024-05-09 18:16:14,600 INFO sqlalchemy.engine.Engine \n",
      "        SELECT i.category, i.material, MAX(sf.search_count) as max_search_count\n",
      "        FROM Search_Frequency sf\n",
      "        JOIN Item i ON sf.item_id = i.item_id\n",
      "        GROUP BY sf.item_id\n",
      "        ORDER BY max_search_count DESC\n",
      "        \n",
      "2024-05-09 18:16:14,600 INFO sqlalchemy.engine.Engine [raw sql] ()\n"
     ]
    },
    {
     "data": {
      "text/plain": "   category   material  max_search_count\n0   dresses     cotton               493\n1      tops      linen               489\n2     pants       wool               483\n3   dresses      linen               462\n4   dresses      linen               461\n..      ...        ...               ...\n60     tops  polyester                58\n61    pants      linen                58\n62    pants     cotton                44\n63  dresses      linen                15\n64    pants      linen                 3\n\n[65 rows x 3 columns]",
      "text/html": "<div>\n<style scoped>\n    .dataframe tbody tr th:only-of-type {\n        vertical-align: middle;\n    }\n\n    .dataframe tbody tr th {\n        vertical-align: top;\n    }\n\n    .dataframe thead th {\n        text-align: right;\n    }\n</style>\n<table border=\"1\" class=\"dataframe\">\n  <thead>\n    <tr style=\"text-align: right;\">\n      <th></th>\n      <th>category</th>\n      <th>material</th>\n      <th>max_search_count</th>\n    </tr>\n  </thead>\n  <tbody>\n    <tr>\n      <th>0</th>\n      <td>dresses</td>\n      <td>cotton</td>\n      <td>493</td>\n    </tr>\n    <tr>\n      <th>1</th>\n      <td>tops</td>\n      <td>linen</td>\n      <td>489</td>\n    </tr>\n    <tr>\n      <th>2</th>\n      <td>pants</td>\n      <td>wool</td>\n      <td>483</td>\n    </tr>\n    <tr>\n      <th>3</th>\n      <td>dresses</td>\n      <td>linen</td>\n      <td>462</td>\n    </tr>\n    <tr>\n      <th>4</th>\n      <td>dresses</td>\n      <td>linen</td>\n      <td>461</td>\n    </tr>\n    <tr>\n      <th>...</th>\n      <td>...</td>\n      <td>...</td>\n      <td>...</td>\n    </tr>\n    <tr>\n      <th>60</th>\n      <td>tops</td>\n      <td>polyester</td>\n      <td>58</td>\n    </tr>\n    <tr>\n      <th>61</th>\n      <td>pants</td>\n      <td>linen</td>\n      <td>58</td>\n    </tr>\n    <tr>\n      <th>62</th>\n      <td>pants</td>\n      <td>cotton</td>\n      <td>44</td>\n    </tr>\n    <tr>\n      <th>63</th>\n      <td>dresses</td>\n      <td>linen</td>\n      <td>15</td>\n    </tr>\n    <tr>\n      <th>64</th>\n      <td>pants</td>\n      <td>linen</td>\n      <td>3</td>\n    </tr>\n  </tbody>\n</table>\n<p>65 rows × 3 columns</p>\n</div>"
     },
     "execution_count": 16,
     "metadata": {},
     "output_type": "execute_result"
    }
   ],
   "source": [
    "interaction.get_popularity_metrics()"
   ],
   "metadata": {
    "collapsed": false,
    "ExecuteTime": {
     "start_time": "2024-05-09T18:16:14.596379Z",
     "end_time": "2024-05-09T18:16:14.647599Z"
    }
   }
  },
  {
   "cell_type": "code",
   "execution_count": 17,
   "outputs": [
    {
     "name": "stdout",
     "output_type": "stream",
     "text": [
      "2024-05-09 18:16:18,189 INFO sqlalchemy.engine.Engine PRAGMA main.table_info(\"\n",
      "        SELECT i.category, i.material, i.style, i.color, SUM(t.trend_score) as trend_score\n",
      "        FROM Item i\n",
      "        JOIN Trend t ON i.item_id = t.item_id\n",
      "        GROUP BY i.item_id\n",
      "        ORDER BY trend_score DESC\n",
      "        \")\n",
      "2024-05-09 18:16:18,191 INFO sqlalchemy.engine.Engine [raw sql] ()\n",
      "2024-05-09 18:16:18,191 INFO sqlalchemy.engine.Engine PRAGMA temp.table_info(\"\n",
      "        SELECT i.category, i.material, i.style, i.color, SUM(t.trend_score) as trend_score\n",
      "        FROM Item i\n",
      "        JOIN Trend t ON i.item_id = t.item_id\n",
      "        GROUP BY i.item_id\n",
      "        ORDER BY trend_score DESC\n",
      "        \")\n",
      "2024-05-09 18:16:18,192 INFO sqlalchemy.engine.Engine [raw sql] ()\n",
      "2024-05-09 18:16:18,193 INFO sqlalchemy.engine.Engine \n",
      "        SELECT i.category, i.material, i.style, i.color, SUM(t.trend_score) as trend_score\n",
      "        FROM Item i\n",
      "        JOIN Trend t ON i.item_id = t.item_id\n",
      "        GROUP BY i.item_id\n",
      "        ORDER BY trend_score DESC\n",
      "        \n",
      "2024-05-09 18:16:18,193 INFO sqlalchemy.engine.Engine [raw sql] ()\n"
     ]
    },
    {
     "data": {
      "text/plain": "   category   material   style              color  trend_score\n0      tops     cotton  casual               Plum       266.51\n1     pants  polyester  casual    MediumTurquoise       192.85\n2   dresses  polyester  sporty          CadetBlue       151.16\n3      tops       wool  formal  MediumSpringGreen       144.13\n4      tops  polyester  formal              White       140.99\n..      ...        ...     ...                ...          ...\n63    pants      linen  formal        DarkMagenta         7.49\n64  dresses     cotton  formal       MediumOrchid         6.73\n65  dresses      linen  formal       MediumPurple         2.11\n66     tops      linen  formal     BlanchedAlmond         1.88\n67  dresses  polyester  formal             Orange         1.26\n\n[68 rows x 5 columns]",
      "text/html": "<div>\n<style scoped>\n    .dataframe tbody tr th:only-of-type {\n        vertical-align: middle;\n    }\n\n    .dataframe tbody tr th {\n        vertical-align: top;\n    }\n\n    .dataframe thead th {\n        text-align: right;\n    }\n</style>\n<table border=\"1\" class=\"dataframe\">\n  <thead>\n    <tr style=\"text-align: right;\">\n      <th></th>\n      <th>category</th>\n      <th>material</th>\n      <th>style</th>\n      <th>color</th>\n      <th>trend_score</th>\n    </tr>\n  </thead>\n  <tbody>\n    <tr>\n      <th>0</th>\n      <td>tops</td>\n      <td>cotton</td>\n      <td>casual</td>\n      <td>Plum</td>\n      <td>266.51</td>\n    </tr>\n    <tr>\n      <th>1</th>\n      <td>pants</td>\n      <td>polyester</td>\n      <td>casual</td>\n      <td>MediumTurquoise</td>\n      <td>192.85</td>\n    </tr>\n    <tr>\n      <th>2</th>\n      <td>dresses</td>\n      <td>polyester</td>\n      <td>sporty</td>\n      <td>CadetBlue</td>\n      <td>151.16</td>\n    </tr>\n    <tr>\n      <th>3</th>\n      <td>tops</td>\n      <td>wool</td>\n      <td>formal</td>\n      <td>MediumSpringGreen</td>\n      <td>144.13</td>\n    </tr>\n    <tr>\n      <th>4</th>\n      <td>tops</td>\n      <td>polyester</td>\n      <td>formal</td>\n      <td>White</td>\n      <td>140.99</td>\n    </tr>\n    <tr>\n      <th>...</th>\n      <td>...</td>\n      <td>...</td>\n      <td>...</td>\n      <td>...</td>\n      <td>...</td>\n    </tr>\n    <tr>\n      <th>63</th>\n      <td>pants</td>\n      <td>linen</td>\n      <td>formal</td>\n      <td>DarkMagenta</td>\n      <td>7.49</td>\n    </tr>\n    <tr>\n      <th>64</th>\n      <td>dresses</td>\n      <td>cotton</td>\n      <td>formal</td>\n      <td>MediumOrchid</td>\n      <td>6.73</td>\n    </tr>\n    <tr>\n      <th>65</th>\n      <td>dresses</td>\n      <td>linen</td>\n      <td>formal</td>\n      <td>MediumPurple</td>\n      <td>2.11</td>\n    </tr>\n    <tr>\n      <th>66</th>\n      <td>tops</td>\n      <td>linen</td>\n      <td>formal</td>\n      <td>BlanchedAlmond</td>\n      <td>1.88</td>\n    </tr>\n    <tr>\n      <th>67</th>\n      <td>dresses</td>\n      <td>polyester</td>\n      <td>formal</td>\n      <td>Orange</td>\n      <td>1.26</td>\n    </tr>\n  </tbody>\n</table>\n<p>68 rows × 5 columns</p>\n</div>"
     },
     "execution_count": 17,
     "metadata": {},
     "output_type": "execute_result"
    }
   ],
   "source": [
    "interaction.get_detailed_item_trends()"
   ],
   "metadata": {
    "collapsed": false,
    "ExecuteTime": {
     "start_time": "2024-05-09T18:16:18.192721Z",
     "end_time": "2024-05-09T18:16:18.245933Z"
    }
   }
  },
  {
   "cell_type": "code",
   "execution_count": null,
   "outputs": [],
   "source": [],
   "metadata": {
    "collapsed": false
   }
  }
 ],
 "metadata": {
  "kernelspec": {
   "display_name": "Python 3",
   "language": "python",
   "name": "python3"
  },
  "language_info": {
   "codemirror_mode": {
    "name": "ipython",
    "version": 2
   },
   "file_extension": ".py",
   "mimetype": "text/x-python",
   "name": "python",
   "nbconvert_exporter": "python",
   "pygments_lexer": "ipython2",
   "version": "2.7.6"
  }
 },
 "nbformat": 4,
 "nbformat_minor": 0
}
