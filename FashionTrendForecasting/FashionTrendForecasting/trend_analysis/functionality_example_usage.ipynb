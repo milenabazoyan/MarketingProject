{
 "cells": [
  {
   "cell_type": "code",
   "execution_count": 28,
   "outputs": [],
   "source": [
    "from main.database_related.sql_interactions import Interactions"
   ],
   "metadata": {
    "collapsed": false,
    "ExecuteTime": {
     "start_time": "2024-04-06T19:14:19.138001Z",
     "end_time": "2024-04-06T19:14:19.157164Z"
    }
   }
  },
  {
   "cell_type": "code",
   "execution_count": 33,
   "outputs": [
    {
     "data": {
      "text/plain": "    item_id          name                                       description  \\\n0         1        Reveal                 They market serve program report.   \n1         2        Happen          Manager with doctor leader listen those.   \n2         3          They                          Also father and federal.   \n3         4          Fund                  Middle short sell boy cause not.   \n4         5         Watch  Set throw machine here series tax story provide.   \n..      ...           ...                                               ...   \n95       96      Analysis       Than someone our sense rather perform save.   \n96       97        Season                Hear so parent hard reality final.   \n97       98     Structure                        Congress measure discover.   \n98       99  Organization                           Across near particular.   \n99      100         Front                               Size part together.   \n\n   category   material   style           color  picture_id  \n0     pants  polyester  sporty       Gainsboro           1  \n1     pants  polyester  formal            Navy           2  \n2   dresses       wool  formal  LightSteelBlue           3  \n3      tops      linen  sporty      BlueViolet           4  \n4   dresses      linen  sporty       LimeGreen           5  \n..      ...        ...     ...             ...         ...  \n95    pants      linen  sporty            Peru          96  \n96     tops  polyester  formal       RoyalBlue          97  \n97    pants     cotton  formal           Coral          98  \n98    pants      linen  sporty       SteelBlue          99  \n99     tops      linen  formal           White         100  \n\n[100 rows x 8 columns]",
      "text/html": "<div>\n<style scoped>\n    .dataframe tbody tr th:only-of-type {\n        vertical-align: middle;\n    }\n\n    .dataframe tbody tr th {\n        vertical-align: top;\n    }\n\n    .dataframe thead th {\n        text-align: right;\n    }\n</style>\n<table border=\"1\" class=\"dataframe\">\n  <thead>\n    <tr style=\"text-align: right;\">\n      <th></th>\n      <th>item_id</th>\n      <th>name</th>\n      <th>description</th>\n      <th>category</th>\n      <th>material</th>\n      <th>style</th>\n      <th>color</th>\n      <th>picture_id</th>\n    </tr>\n  </thead>\n  <tbody>\n    <tr>\n      <th>0</th>\n      <td>1</td>\n      <td>Reveal</td>\n      <td>They market serve program report.</td>\n      <td>pants</td>\n      <td>polyester</td>\n      <td>sporty</td>\n      <td>Gainsboro</td>\n      <td>1</td>\n    </tr>\n    <tr>\n      <th>1</th>\n      <td>2</td>\n      <td>Happen</td>\n      <td>Manager with doctor leader listen those.</td>\n      <td>pants</td>\n      <td>polyester</td>\n      <td>formal</td>\n      <td>Navy</td>\n      <td>2</td>\n    </tr>\n    <tr>\n      <th>2</th>\n      <td>3</td>\n      <td>They</td>\n      <td>Also father and federal.</td>\n      <td>dresses</td>\n      <td>wool</td>\n      <td>formal</td>\n      <td>LightSteelBlue</td>\n      <td>3</td>\n    </tr>\n    <tr>\n      <th>3</th>\n      <td>4</td>\n      <td>Fund</td>\n      <td>Middle short sell boy cause not.</td>\n      <td>tops</td>\n      <td>linen</td>\n      <td>sporty</td>\n      <td>BlueViolet</td>\n      <td>4</td>\n    </tr>\n    <tr>\n      <th>4</th>\n      <td>5</td>\n      <td>Watch</td>\n      <td>Set throw machine here series tax story provide.</td>\n      <td>dresses</td>\n      <td>linen</td>\n      <td>sporty</td>\n      <td>LimeGreen</td>\n      <td>5</td>\n    </tr>\n    <tr>\n      <th>...</th>\n      <td>...</td>\n      <td>...</td>\n      <td>...</td>\n      <td>...</td>\n      <td>...</td>\n      <td>...</td>\n      <td>...</td>\n      <td>...</td>\n    </tr>\n    <tr>\n      <th>95</th>\n      <td>96</td>\n      <td>Analysis</td>\n      <td>Than someone our sense rather perform save.</td>\n      <td>pants</td>\n      <td>linen</td>\n      <td>sporty</td>\n      <td>Peru</td>\n      <td>96</td>\n    </tr>\n    <tr>\n      <th>96</th>\n      <td>97</td>\n      <td>Season</td>\n      <td>Hear so parent hard reality final.</td>\n      <td>tops</td>\n      <td>polyester</td>\n      <td>formal</td>\n      <td>RoyalBlue</td>\n      <td>97</td>\n    </tr>\n    <tr>\n      <th>97</th>\n      <td>98</td>\n      <td>Structure</td>\n      <td>Congress measure discover.</td>\n      <td>pants</td>\n      <td>cotton</td>\n      <td>formal</td>\n      <td>Coral</td>\n      <td>98</td>\n    </tr>\n    <tr>\n      <th>98</th>\n      <td>99</td>\n      <td>Organization</td>\n      <td>Across near particular.</td>\n      <td>pants</td>\n      <td>linen</td>\n      <td>sporty</td>\n      <td>SteelBlue</td>\n      <td>99</td>\n    </tr>\n    <tr>\n      <th>99</th>\n      <td>100</td>\n      <td>Front</td>\n      <td>Size part together.</td>\n      <td>tops</td>\n      <td>linen</td>\n      <td>formal</td>\n      <td>White</td>\n      <td>100</td>\n    </tr>\n  </tbody>\n</table>\n<p>100 rows × 8 columns</p>\n</div>"
     },
     "execution_count": 33,
     "metadata": {},
     "output_type": "execute_result"
    }
   ],
   "source": [
    "Interactions.select_all_as_df('item')  # Replace 'item' with any table name"
   ],
   "metadata": {
    "collapsed": false,
    "ExecuteTime": {
     "start_time": "2024-04-06T19:14:45.942857Z",
     "end_time": "2024-04-06T19:14:45.976875Z"
    }
   }
  },
  {
   "cell_type": "code",
   "execution_count": 34,
   "metadata": {
    "collapsed": true,
    "ExecuteTime": {
     "start_time": "2024-04-06T19:14:47.733578Z",
     "end_time": "2024-04-06T19:14:47.745435Z"
    }
   },
   "outputs": [
    {
     "data": {
      "text/plain": "  category   material  total_trend_score\n0  dresses       wool             123.47\n1     tops       wool              93.03\n2     tops  polyester              85.19",
      "text/html": "<div>\n<style scoped>\n    .dataframe tbody tr th:only-of-type {\n        vertical-align: middle;\n    }\n\n    .dataframe tbody tr th {\n        vertical-align: top;\n    }\n\n    .dataframe thead th {\n        text-align: right;\n    }\n</style>\n<table border=\"1\" class=\"dataframe\">\n  <thead>\n    <tr style=\"text-align: right;\">\n      <th></th>\n      <th>category</th>\n      <th>material</th>\n      <th>total_trend_score</th>\n    </tr>\n  </thead>\n  <tbody>\n    <tr>\n      <th>0</th>\n      <td>dresses</td>\n      <td>wool</td>\n      <td>123.47</td>\n    </tr>\n    <tr>\n      <th>1</th>\n      <td>tops</td>\n      <td>wool</td>\n      <td>93.03</td>\n    </tr>\n    <tr>\n      <th>2</th>\n      <td>tops</td>\n      <td>polyester</td>\n      <td>85.19</td>\n    </tr>\n  </tbody>\n</table>\n</div>"
     },
     "execution_count": 34,
     "metadata": {},
     "output_type": "execute_result"
    }
   ],
   "source": [
    "Interactions.get_seasonal_trend_items('Spring')"
   ]
  },
  {
   "cell_type": "code",
   "execution_count": 35,
   "outputs": [
    {
     "data": {
      "text/plain": "   category   material  max_search_count\n0   dresses     cotton               491\n1   dresses      linen               482\n2      tops     cotton               475\n3     pants      linen               472\n4     pants     cotton               467\n..      ...        ...               ...\n57  dresses       wool                88\n58     tops      linen                64\n59    pants  polyester                34\n60    pants      linen                23\n61     tops      linen                 5\n\n[62 rows x 3 columns]",
      "text/html": "<div>\n<style scoped>\n    .dataframe tbody tr th:only-of-type {\n        vertical-align: middle;\n    }\n\n    .dataframe tbody tr th {\n        vertical-align: top;\n    }\n\n    .dataframe thead th {\n        text-align: right;\n    }\n</style>\n<table border=\"1\" class=\"dataframe\">\n  <thead>\n    <tr style=\"text-align: right;\">\n      <th></th>\n      <th>category</th>\n      <th>material</th>\n      <th>max_search_count</th>\n    </tr>\n  </thead>\n  <tbody>\n    <tr>\n      <th>0</th>\n      <td>dresses</td>\n      <td>cotton</td>\n      <td>491</td>\n    </tr>\n    <tr>\n      <th>1</th>\n      <td>dresses</td>\n      <td>linen</td>\n      <td>482</td>\n    </tr>\n    <tr>\n      <th>2</th>\n      <td>tops</td>\n      <td>cotton</td>\n      <td>475</td>\n    </tr>\n    <tr>\n      <th>3</th>\n      <td>pants</td>\n      <td>linen</td>\n      <td>472</td>\n    </tr>\n    <tr>\n      <th>4</th>\n      <td>pants</td>\n      <td>cotton</td>\n      <td>467</td>\n    </tr>\n    <tr>\n      <th>...</th>\n      <td>...</td>\n      <td>...</td>\n      <td>...</td>\n    </tr>\n    <tr>\n      <th>57</th>\n      <td>dresses</td>\n      <td>wool</td>\n      <td>88</td>\n    </tr>\n    <tr>\n      <th>58</th>\n      <td>tops</td>\n      <td>linen</td>\n      <td>64</td>\n    </tr>\n    <tr>\n      <th>59</th>\n      <td>pants</td>\n      <td>polyester</td>\n      <td>34</td>\n    </tr>\n    <tr>\n      <th>60</th>\n      <td>pants</td>\n      <td>linen</td>\n      <td>23</td>\n    </tr>\n    <tr>\n      <th>61</th>\n      <td>tops</td>\n      <td>linen</td>\n      <td>5</td>\n    </tr>\n  </tbody>\n</table>\n<p>62 rows × 3 columns</p>\n</div>"
     },
     "execution_count": 35,
     "metadata": {},
     "output_type": "execute_result"
    }
   ],
   "source": [
    "Interactions.get_popularity_metrics(self='sqlite:///FashionAnalysis_temp.db')"
   ],
   "metadata": {
    "collapsed": false,
    "ExecuteTime": {
     "start_time": "2024-04-06T19:14:48.448791Z",
     "end_time": "2024-04-06T19:14:48.478934Z"
    }
   }
  }
 ],
 "metadata": {
  "kernelspec": {
   "display_name": "Python 3",
   "language": "python",
   "name": "python3"
  },
  "language_info": {
   "codemirror_mode": {
    "name": "ipython",
    "version": 2
   },
   "file_extension": ".py",
   "mimetype": "text/x-python",
   "name": "python",
   "nbconvert_exporter": "python",
   "pygments_lexer": "ipython2",
   "version": "2.7.6"
  }
 },
 "nbformat": 4,
 "nbformat_minor": 0
}
